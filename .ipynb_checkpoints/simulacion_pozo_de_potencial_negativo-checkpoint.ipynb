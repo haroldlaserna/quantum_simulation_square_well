{
 "cells": [
  {
   "cell_type": "markdown",
   "id": "2cf143ab-c663-49aa-9d1b-55b5fc5c8cf2",
   "metadata": {
    "tags": []
   },
   "source": [
    "# Método numérico para solucionar la distribucción de probabilidad de un electrón \"atravesando\" un pozo de cuadrado finito.\n",
    "\n",
    "<center> <h2>Autor: Harold Yesid Laserna Diaz</h2> </center>\n",
    "\n",
    "Un electrón es lanzado desde $-\\infty$ e interactúa con un potencial $V(x)$ como se muestra a continuación:\n",
    "\n",
    "\n",
    "\n",
    "$$    V(x)= \n",
    "\\begin{cases}\n",
    "    -V_{0},& \\text{sí } |x| < a\\\\\n",
    "    0,   &  \\text{sí }   |x| > a.\n",
    "\\end{cases}\n",
    "$$\n",
    "\n",
    "\n",
    "![MarineGEO circle logo](pozo.png \"MarineGEO logo\")\n",
    "\n",
    "Dado que el potencial es independiente del tiempo tenemos que la ecuación de Schrödinder es:\n",
    "\n",
    "$$\\frac{-\\hbar^2}{2m}\\frac{d^2\\psi}{dx^2}+(V(x)-E)\\psi=0,$$\n",
    "\n",
    "siendo $m$ la masa del electrón, $\\hbar$ siendo el cociente de la constante de Planck y 2 veces $\\pi$ y $E$ la energía que puede tomar.\n",
    "\n",
    "Dependiendo de la región tomada obtendremos diferentes soluciones a $\\psi$ como se muestra a continuación:\n",
    "\n",
    "$$    \\psi(x)= \n",
    "\\begin{cases}\n",
    "    Fe^{-\\kappa x},& \\text{sí } x > a\\\\\n",
    "    Dcos(lx),   &  \\text{sí }  0 < x < a \\\\\n",
    "    \\psi(-x), & \\text{sí } x < 0,\\\\\n",
    "\\end{cases}\n",
    "$$\n",
    "\n",
    "Con $l$ y $\\kappa$ como:\n",
    "$$l= \\frac{\\sqrt{2m(E+V_{0})}}{\\hbar}$$\n",
    "$$\\kappa = \\frac{\\sqrt{-2mE}}{\\hbar}$$\n",
    "\n",
    "Tenemos que para una transmisión perfecta T = 1 obtenemos que la energía $E_{n}$ es:\n",
    "\n",
    "$$E_{n}= \\frac{n^2\\pi^2\\hbar^2}{2m(2a)^2}-V_{0}$$\n",
    "Ocurre unicamente cuando estamos en un pozo cuadrado infinito o aproximadamente en pozos con $V_{0}$ grandes se puede tomar la anterior ecuación como una aproximación. \n",
    "\n",
    "En este caso nos interesa solucionar la anterior ecuación de Schrödinger mediante metodos numéricos.\n",
    "\n",
    "# modelo por métodos numéricos\n",
    "\n",
    "Tenemos en cuenta que la solución de $\\psi$ independientemente del potencial $V(t,x)$ tiene que ser normalizable. Esto quiere decir que TODAS las funciones $\\psi$ cumplen con la siguiente condición:\n",
    "\n",
    "$$\\lim_{x \\to -\\infty}\\psi(x)=0 \\\\ y \\\\ \\lim_{x \\to \\infty}\\psi(x)=0.$$\n",
    "\n",
    "Es decir que si tomamos una posición $x$ lo suficientemente lejano al interés del evento podemos usar las anteriores condiciones es decir $\\lim_{x \\to -a}\\psi(x)=0 \\ y \\ \\lim_{x \\to a}\\psi(x)=0$.\n",
    "\n",
    "La anterior es importante dado que a la hora de simular nuestro sistema mediante metodos numéricos, tenemos que escoger una posición lo suficientemente lejana al evento, ya que es en el único lugar que conocemos la función $\\psi$ y en los demás lugares la deseamos conocer mediante la simulación.\n",
    "\n",
    "También es importante adimensionar la ecuación de Schrödinger en este caso, ya que algunos métodos tienen unos límites de convergencia del metodo, es decir que si escogemos una posición demasiado grande, nuestro método númerico no va converger a una solución deseable. \n",
    "Para adimensionar la ecuación de Schrödinger usamos el siguiente convenio:\n",
    "$$y=\\frac{x}{L},$$\n",
    "siendo $L$ una constante a escoger, con las mismas unidades que $x$.\n",
    "\n",
    "Teniendo en cuenta la regla de la cadena para la primera derivada obtenemos que:\n",
    "\n",
    "$$\\frac{d\\psi}{dx}=\\frac{d\\psi}{dy}\\frac{dy}{dx}$$\n",
    "$$\\frac{d\\psi}{dx}=\\frac{d\\psi}{dy}\\frac{1}{L}$$\n",
    "\n",
    "aplicando una segunda derivada obtenemos que:\n",
    "$$\\frac{d^2\\psi}{dx^2}=\\frac{d}{dx}\\left(\\frac{d\\psi}{dy}\\right)\\frac{1}{L}$$\n",
    "Por teorema de Schwarz lo anterior se convierte en:\n",
    "$$\\frac{d^2\\psi}{dx^2}=\\frac{d}{dy}\\left(\\frac{d\\psi}{dx}\\right)\\frac{1}{L}$$\n",
    "siendo la solución a la primera derivada anterior tal que:\n",
    "$$\\frac{d^2\\psi}{dx^2}=\\frac{d}{dy}\\left(\\frac{d\\psi}{dy}\\frac{1}{L}\\right)\\frac{1}{L}$$\n",
    "con lo cual obtenemos que:\n",
    "$$\\frac{d^2\\psi}{dx^2}=\\frac{d^2\\psi}{dy^2}\\frac{1}{L^2}$$\n",
    "remplazando en la ecuación de Schrödinger independiente del tiempo:\n",
    "$$\\frac{-\\hbar^2}{2m}\\frac{d^2\\psi}{dy^2}\\frac{1}{L^2}+(V(x)-E)\\psi=0,$$\n",
    "y organizando términos tenemos que:\n",
    "$$\\frac{d^2\\psi}{dy^2}+\\frac{2mL^2}{\\hbar^2}(E-V(y))\\psi=0,$$\n",
    "Esta anterior ecuación diferencial de segundo orden puede ser posible de solucionar con métodos de un paso como lo es Runge Kutta, Euler, etc, el unico problema es tantear la ecuación con varios valores de $E$ hasta encontrar una solución con sentido, debido a que $E$ no es continuo encontramos ese problema. Aún asi, si es posible solucionar con metodos de un paso o multipaso.\n",
    "\n",
    "El objetivo para poder aplicar un método numérico más eficiente es convertir la anterior ecuación diferencial en una ecuación lineal sin derivadas. Con lo cual necesitamos transformar la segunda derivada de la función con respecto a $y$ en algo que no sea derivada.\n",
    "\n",
    "Para esto, primero usamos la expansión de Taylor centrada en $x$ para $f(x+h)$ y $f(x-h)$ siendo $h$ un incremento arbitrario (que definiremos con más detalle más adelante) escribiendo la expansión de Taylor únicamente a terce orden obtenemos que:\n",
    "\n",
    "$$f(x+h)\\approx f(x)+ \\frac{df(x)}{dx}h + \\frac{d^2f(x)}{dx^2}\\frac{h^2}{2} +\\frac{d^3f(x)}{dx^3}\\frac{h^3}{6}$$\n",
    "\n",
    "$$f(x-h)\\approx f(x)- \\frac{df(x)}{dx}h + \\frac{d^2f(x)}{dx^2}\\frac{h^2}{2} - \\frac{d^3f(x)}{dx^3}\\frac{h^3}{6},$$\n",
    "\n",
    "sumando $f(x+h)$ y $f(x-h)$\n",
    "tenemos que:\n",
    "\n",
    "$$f(x+h)+f(x+h) \\approx 2f(x)+\\frac{d^2f(x)}{dx^2}h^2$$\n",
    "\n",
    "despejando la segunda derivada tenemos que:\n",
    "\n",
    "$$\\frac{d^2f(x)}{dx^2} \\approx \\frac{f(x+h)+f(x-h)-2f(x)}{h^2}$$\n",
    "\n",
    "Como observamos de la anterior ecuación, mediante aproximación por expansión de Taylor, es posible convertir derivadas en sumas y restas de la función original dado un incremento $h$ escogido. Con lo anterior aún no es posible pasar a programar debido a que en la ecuación anterior, $x$ sigue siendo continuo. Para esto necesitamos discretizar $x$ de la siguente forma:\n",
    "\n",
    "![discretizar](discretizar.jpg \"MarineGEO logo\")\n",
    "\n",
    "Como se muestra en la imagen anterior para poder discretizar cogemos la función continua y solo seleccionamos puntos que estén separados a una distancia $h$ entre sí. para este caso discretizamos desde un punto $x_{o}$ hasta un punto $x_{n}$, siendo $n+1$ la cantidad total de puntos $x_{i}$\n",
    "en este caso $x_{o}$ y $x_{n}$ la frontera de puntos a usar.\n",
    "Dado que podemos definir las fronteras y podemos definir la cantidad de puntos totales a usar podemos determinar la distancia $h$ punto a punto de la siguiente forma:\n",
    "\n",
    "$$h=\\frac{x_{n}-x_{0}}{n},$$\n",
    "\n",
    "lo anterior exige que $x_{n}>x_{0}$\n",
    "definido el incremento $h$ es posible definir $x_{1}$, $x_{2}$, $x_{3}$ de la siguiente forma\n",
    "\n",
    "$$x_{1}=x_{0}+h$$\n",
    "$$x_{2}=x_{1}+h$$\n",
    "$$x_{3}=x_{2}+h,$$\n",
    "\n",
    "es decir que para definir cualquier $x_{i+1}$ es necesario tener el valor de $x_{i}$ es decir, que en general:\n",
    "$$x_{i+1}=x_{i}+h$$\n",
    "desde esta perspectiva de discretización, ahora el valor obtenido de la derivada anterior puede ser escrita como:\n",
    "$$\\frac{d^2f(x_{i})}{dx_{i}^2} \\approx \\frac{f(x_{i}+h)+f(x_{i}-h)-2f(x_{i})}{h^2}$$\n",
    "\n",
    "teniendo en cuenta el incremento $h$, podemos reorganizar lo anterior como:\n",
    "\n",
    "$$\\frac{d^2f(x_{i})}{dx_{i}^2} \\approx \\frac{f(x_{i+1})+f(x_{i-1})-2f(x_{i})}{h^2}$$\n",
    "\n",
    "aclarando que $x_{i-1}=x_i-h$,teniendo en cuenta la \"transformación\" de la segunda derivada y la discretización de $x$ ahora definamos la segunda derivada con respecto a la posición en este caso para la función $\\psi$ y asumiendo la aproximación como una igualdad:\n",
    "\n",
    "$$\\frac{d^2\\psi(x_{i})}{dx_{i}^2} = \\frac{\\psi(x_{i+1})+\\psi(x_{i-1})-2\\psi(x_{i})}{h^2}$$\n",
    "\n",
    "Escribiendo la ecuación de Schrödinger con la variable $y$ discretizada, en este caso usamos $y_{i}$ tal que:\n",
    "\n",
    "$$\\frac{d^2\\psi(y_{i})}{dy_{i}^2}+\\frac{2mL^2}{\\hbar^2}(E-V(y_{i}))\\psi(y_{i})=0,$$\n",
    "ahora, reemplazando la derivada con la aproximación anterior se tiene que:\n",
    "\n",
    "$$\\frac{\\psi(y_{i+1})+\\psi(y_{i-1})-2\\psi(y_{i})}{h^2}+\\frac{2mL^2}{\\hbar^2}(E-V(y_{i}))\\psi(y_{i})=0,$$\n",
    "\n",
    "Reorganizando terminos tenemos la siguiente ecuación (el objetivo de la reorganización es compararlo mas adelante para construir una matriz):\n",
    "\n",
    "$$-\\frac{1}{2}\\frac{\\psi(y_{i-1})}{h^2} + \\left( \\frac{1}{h^2} + \\frac{mL^2}{\\hbar^2}V(y_{i})\\right)\\psi(y_{i}) -\\frac{1}{2}\\frac{\\psi(y_{i+1})}{h^2}=\\frac{mL^2E}{\\hbar^2}\\psi(y_{i})$$\n",
    "\n",
    "Para tener una solución del sistema necesitamos los valores de frontera de $\\psi$ es decir $\\psi(y_{0})$ y $\\psi(y_{n})$, en este caso $y_{0}$ y $y_{n}$ son puntos lejanos al evento de interes es decir que:\n",
    "$$\\psi(y_{n}) = \\psi(y_{0}) = 0$$\n",
    "\n",
    "construyendo las ecuaciones para $y_{1}$, $y_{2}$ y $y_{n-1}$\n",
    "tenemos lo siguiente:\n",
    "\n",
    "$x_{1}:$\n",
    "\n",
    "$$-\\frac{1}{2}\\frac{\\psi(y_{0})}{h^2} + \\left( \\frac{1}{h^2} + \\frac{mL^2}{\\hbar^2}V(y_{1})\\right)\\psi(y_{1}) -\\frac{1}{2}\\frac{\\psi(y_{2})}{h^2}=\\frac{mL^2E}{\\hbar^2}\\psi(y_{1})$$\n",
    "\n",
    "$x_{2}:$\n",
    "\n",
    "$$-\\frac{1}{2}\\frac{\\psi(y_{1})}{h^2} + \\left( \\frac{1}{h^2} + \\frac{mL^2}{\\hbar^2}V(y_{2})\\right)\\psi(y_{2}) -\\frac{1}{2}\\frac{\\psi(y_{3})}{h^2}=\\frac{mL^2E}{\\hbar^2}\\psi(y_{2})$$\n",
    "\n",
    "$x_{n-1}:$\n",
    "\n",
    "$$-\\frac{1}{2}\\frac{\\psi(y_{n})}{h^2} + \\left( \\frac{1}{h^2} + \\frac{mL^2}{\\hbar^2}V(y_{n-1})\\right)\\psi(y_{n-1}) -\\frac{1}{2}\\frac{\\psi(y_{n-2})}{h^2}=\\frac{mL^2E}{\\hbar^2}\\psi(y_{n})$$\n",
    "\n",
    "teniendo en cuenta que $\\psi(y_{n})$ y $\\psi(y_{0})$ son 0 y teniendo encuenta los demás $y_{i}$ es posible construir la siguiente ecuación lineal matricialmente:\n",
    "\n",
    "$$\n",
    "\\boldsymbol{A}\\begin{bmatrix}\n",
    "\\psi(y_{1}) \\\\\n",
    "\\psi(y_{2}) \\\\\n",
    "\\vdots \\\\\n",
    "\\psi(y_{n-2}) \\\\\n",
    "\\psi(y_{n-1})\n",
    "\\end{bmatrix}\n",
    "=\\frac{mL^2E}{\\hbar^2}\\begin{bmatrix}\n",
    "\\psi(y_{1}) \\\\\n",
    "\\psi(y_{2}) \\\\\n",
    "\\vdots \\\\\n",
    "\\psi(y_{n-2}) \\\\\n",
    "\\psi(y_{n-1})\n",
    "\\end{bmatrix}\n",
    "$$\n",
    "siendo $\\boldsymbol{A}$ una matriz de $n-1$x$n-1$ definida de la siguiente forma:\n",
    "\n",
    "$$\\boldsymbol{A} = \\begin{bmatrix}\n",
    "\\frac{1}{h^2} + \\frac{mL^2}{\\hbar^2}V(y_{1}) & - \\frac{1}{2h^2} & 0 & \\ldots & 0 & 0 \\\\\n",
    "- \\frac{1}{2h^2} & \\frac{1}{h^2} + \\frac{mL^2}{\\hbar^2}V(y_{2}) & - \\frac{1}{2h^2} & \\ldots & 0 & 0\\\\\n",
    "\\vdots & \\vdots & \\vdots & \\ddots &\\vdots & \\vdots \\\\\n",
    "0 & 0 & 0 & \\ldots & - \\frac{1}{2h^2} & \\frac{1}{2h^2} + \\frac{mL^2}{\\hbar^2}V(y_{n-1})\n",
    "\\end{bmatrix}$$\n",
    "\n",
    "De esto podemos observar que lo anterior es un poblema de autovalores y autovectores siendo el autovector, el vector con las componentes $\\psi(y_i)$ y los autovalores $\\frac{mL^2E}{\\hbar^2}$\n",
    "\n",
    "Esta matriz es una matriz tridiagonal que puede ser definida de forma simple de la siguiente forma \n",
    "\n",
    "$$A_{i,i} = \\frac{1}{h^2} + \\frac{mL^2}{\\hbar^2}V(y_{i})$$\n",
    "$$A_{i,i+1} = A_{i,i-1} = -\\frac{1}{h^2}$$\n",
    "$$A_{i,j} = 0, \\ para \\ j \\neq i+1 \\ y \\ \\ j \\neq i-1 $$"
   ]
  },
  {
   "cell_type": "code",
   "execution_count": 523,
   "id": "1fc31697-6bb8-47fa-be2e-3daa1496dc40",
   "metadata": {},
   "outputs": [],
   "source": [
    "import numpy as np\n",
    "import matplotlib.pyplot as plt\n",
    "from scipy.linalg import eigh_tridiagonal "
   ]
  },
  {
   "cell_type": "code",
   "execution_count": 793,
   "id": "a72a786b-b951-43c4-982a-1704e3bd7c59",
   "metadata": {},
   "outputs": [],
   "source": [
    "def potential(x, a, V_o):\n",
    "    if x >= 0.25 and x <= 0.75:\n",
    "        return -V_o\n",
    "    else:\n",
    "        return 0\n"
   ]
  },
  {
   "cell_type": "code",
   "execution_count": 796,
   "id": "38a0b414-dbbd-4956-a0a5-f6cbd2fd03d6",
   "metadata": {},
   "outputs": [],
   "source": [
    "m = 0.51e6 #eV/c²\n",
    "V_o = 83  #eV\n",
    "h_barra = 6.582119 #eV.s\n",
    "a = 2e-15 #m"
   ]
  },
  {
   "cell_type": "code",
   "execution_count": 771,
   "id": "ebd2d51f-0038-4356-b844-df22e743193c",
   "metadata": {},
   "outputs": [],
   "source": [
    "alpha=m*((2*a)**2)/(h_barra**2)"
   ]
  },
  {
   "cell_type": "code",
   "execution_count": 689,
   "id": "2f10daa9-750f-453b-ae92-7ec42616b8e8",
   "metadata": {},
   "outputs": [],
   "source": [
    "x_o = -10*a \n",
    "x_n = 10*a"
   ]
  },
  {
   "cell_type": "code",
   "execution_count": 752,
   "id": "8fdacde0-6260-4ac2-abfa-6f081f8e4da0",
   "metadata": {},
   "outputs": [],
   "source": [
    "n = 1000\n",
    "h = 1/n"
   ]
  },
  {
   "cell_type": "code",
   "execution_count": 753,
   "id": "af6057f5-3753-47d5-be88-8e267536b850",
   "metadata": {},
   "outputs": [],
   "source": [
    "y = np.linspace(0,1,n)"
   ]
  },
  {
   "cell_type": "code",
   "execution_count": 754,
   "id": "5805d961-bea5-4340-8bde-6e215261e39d",
   "metadata": {},
   "outputs": [],
   "source": [
    "x = np.linspace(0,8,n)\n",
    "L = 8e-15"
   ]
  },
  {
   "cell_type": "code",
   "execution_count": 755,
   "id": "7c6a44c6-bba0-45fc-944f-0d8d5f9558ce",
   "metadata": {},
   "outputs": [],
   "source": [
    "mean = x.mean()\n",
    "std = x.std()"
   ]
  },
  {
   "cell_type": "code",
   "execution_count": 756,
   "id": "28e63b8c-1f76-4acd-aea9-bcb392517354",
   "metadata": {},
   "outputs": [],
   "source": [
    "a_normalized = 1/2"
   ]
  },
  {
   "cell_type": "code",
   "execution_count": null,
   "id": "c2d3637b-2f13-41eb-81ea-82d559aa26fc",
   "metadata": {},
   "outputs": [],
   "source": []
  },
  {
   "cell_type": "code",
   "execution_count": 695,
   "id": "048d81c2-69c9-4325-9ba5-bc7ec6b9d3cb",
   "metadata": {},
   "outputs": [
    {
     "name": "stdout",
     "output_type": "stream",
     "text": [
      "8e-15\n"
     ]
    }
   ],
   "source": [
    "print(L)"
   ]
  },
  {
   "cell_type": "code",
   "execution_count": 696,
   "id": "520657cf-c7fe-483c-8c90-5c0a4c1131ff",
   "metadata": {},
   "outputs": [],
   "source": [
    "alpha=m*(L**2)/(h_barra**2)"
   ]
  },
  {
   "cell_type": "code",
   "execution_count": 797,
   "id": "72ab7189-90f1-4999-ba7e-ddcdbe2f530f",
   "metadata": {},
   "outputs": [],
   "source": [
    "alpha  = 4000000"
   ]
  },
  {
   "cell_type": "code",
   "execution_count": 778,
   "id": "d1dcba5c-e10e-4b88-a1b8-f72a4e522e79",
   "metadata": {},
   "outputs": [],
   "source": [
    "alpha=500"
   ]
  },
  {
   "cell_type": "code",
   "execution_count": 798,
   "id": "8a991367-4f10-478e-9dfe-ccb65374042f",
   "metadata": {},
   "outputs": [],
   "source": [
    "trace= []\n",
    "for i in range(len(y)):\n",
    "    trace.append((1/(h**2)) + alpha*potential(y[i],a_normalized, V_o))\n",
    "trace = trace[1:-1]"
   ]
  },
  {
   "cell_type": "code",
   "execution_count": 799,
   "id": "6b799f64-60f3-43b7-ae65-516d32c8415f",
   "metadata": {},
   "outputs": [],
   "source": [
    "upperdiagonal = (-1/(h**2))*np.ones(len(trace)-1)"
   ]
  },
  {
   "cell_type": "code",
   "execution_count": 800,
   "id": "602cfe1a-a966-4242-9a51-2efefcde9c4d",
   "metadata": {},
   "outputs": [],
   "source": [
    "Energy , state = eigh_tridiagonal(trace, upperdiagonal)"
   ]
  },
  {
   "cell_type": "code",
   "execution_count": 826,
   "id": "2b6c8734-acd8-4461-a35e-5daf88720be4",
   "metadata": {},
   "outputs": [
    {
     "data": {
      "text/plain": [
       "-82.9999997385005"
      ]
     },
     "execution_count": 826,
     "metadata": {},
     "output_type": "execute_result"
    }
   ],
   "source": [
    "h  = 6.582119e-16\n",
    "pi = 3.1416\n",
    "a = 4e-15\n",
    "m = 0.51099e6\n",
    "n = 1\n",
    "E = (n**2)*(pi**2)*(h**2)/(2*m*(a**2)) -83\n",
    "E"
   ]
  },
  {
   "cell_type": "code",
   "execution_count": 803,
   "id": "1758c7a9-b492-4026-9e38-5e239219a66d",
   "metadata": {},
   "outputs": [
    {
     "data": {
      "text/plain": [
       "Text(0, 0.5, 'Distribución de probabilidad')"
      ]
     },
     "execution_count": 803,
     "metadata": {},
     "output_type": "execute_result"
    },
    {
     "data": {
      "image/png": "[encoded data removed]",
      "text/plain": [
       "<Figure size 432x288 with 1 Axes>"
      ]
     },
     "metadata": {
      "needs_background": "light"
     },
     "output_type": "display_data"
    }
   ],
   "source": [
    "#plt.plot(x[1:-1],state.T[0]**2)\n",
    "#plt.plot(x[1:-1],state.T[1]**2)\n",
    "plt.plot(x[1:-1],state.T[2]**2)\n",
    "plt.xlabel(\"posición(fm)\")\n",
    "plt.ylabel(\"Distribución de probabilidad\")"
   ]
  },
  {
   "cell_type": "code",
   "execution_count": 804,
   "id": "1fc5e6b4-fc84-4147-90ce-7d85ccd81263",
   "metadata": {},
   "outputs": [
    {
     "data": {
      "text/plain": [
       "Text(0, 0.5, 'Energía(Ev)')"
      ]
     },
     "execution_count": 804,
     "metadata": {},
     "output_type": "execute_result"
    },
    {
     "data": {
      "image/png": "[encoded data removed]",
      "text/plain": [
       "<Figure size 432x288 with 1 Axes>"
      ]
     },
     "metadata": {
      "needs_background": "light"
     },
     "output_type": "display_data"
    }
   ],
   "source": [
    "plt.scatter(np.arange(0,10,1), Energy[0:10]/alpha,\n",
    "s=1444, marker=\"_\", linewidth=2, zorder=3)\n",
    "plt.xlabel(\"nivel de energía\")\n",
    "plt.ylabel(\"Energía(Ev)\")"
   ]
  },
  {
   "cell_type": "code",
   "execution_count": 805,
   "id": "167b96e6-83e4-4930-9c16-e01d093c591c",
   "metadata": {},
   "outputs": [
    {
     "data": {
      "text/plain": [
       "array([-3.32999961e+08, -3.32999843e+08, -3.32999646e+08, -3.32999371e+08,\n",
       "       -3.32999017e+08, -3.32998585e+08, -3.32998074e+08, -3.32997484e+08,\n",
       "       -3.32996816e+08, -3.32996069e+08, -3.32995244e+08, -3.32994341e+08,\n",
       "       -3.32993359e+08, -3.32992298e+08, -3.32991160e+08, -3.32989943e+08,\n",
       "       -3.32988647e+08, -3.32987274e+08, -3.32985822e+08, -3.32984293e+08,\n",
       "       -3.32982685e+08, -3.32980999e+08, -3.32979236e+08, -3.32977394e+08,\n",
       "       -3.32975475e+08, -3.32973478e+08, -3.32971404e+08, -3.32969252e+08,\n",
       "       -3.32967023e+08, -3.32964716e+08, -3.32962332e+08, -3.32959871e+08,\n",
       "       -3.32957333e+08, -3.32954718e+08, -3.32952026e+08, -3.32949257e+08,\n",
       "       -3.32946412e+08, -3.32943490e+08, -3.32940492e+08, -3.32937417e+08,\n",
       "       -3.32934266e+08, -3.32931039e+08, -3.32927737e+08, -3.32924358e+08,\n",
       "       -3.32920904e+08, -3.32917374e+08, -3.32913769e+08, -3.32910088e+08,\n",
       "       -3.32906333e+08, -3.32902502e+08, -3.32898597e+08, -3.32894617e+08,\n",
       "       -3.32890563e+08, -3.32886434e+08, -3.32882231e+08, -3.32877954e+08,\n",
       "       -3.32873603e+08, -3.32869179e+08, -3.32864681e+08, -3.32860110e+08,\n",
       "       -3.32855465e+08, -3.32850748e+08, -3.32845958e+08, -3.32841095e+08,\n",
       "       -3.32836160e+08, -3.32831153e+08, -3.32826073e+08, -3.32820922e+08,\n",
       "       -3.32815699e+08, -3.32810405e+08, -3.32805040e+08, -3.32799604e+08,\n",
       "       -3.32794097e+08, -3.32788519e+08, -3.32782871e+08, -3.32777153e+08,\n",
       "       -3.32771365e+08, -3.32765508e+08, -3.32759581e+08, -3.32753585e+08,\n",
       "       -3.32747520e+08, -3.32741386e+08, -3.32735184e+08, -3.32728913e+08,\n",
       "       -3.32722575e+08, -3.32716168e+08, -3.32709695e+08, -3.32703154e+08,\n",
       "       -3.32696546e+08, -3.32689871e+08, -3.32683130e+08, -3.32676323e+08,\n",
       "       -3.32669450e+08, -3.32662511e+08, -3.32655507e+08, -3.32648438e+08,\n",
       "       -3.32641304e+08, -3.32634105e+08, -3.32626842e+08, -3.32619515e+08,\n",
       "       -3.32612125e+08, -3.32604671e+08, -3.32597154e+08, -3.32589574e+08,\n",
       "       -3.32581932e+08, -3.32574227e+08, -3.32566461e+08, -3.32558633e+08,\n",
       "       -3.32550744e+08, -3.32542793e+08, -3.32534783e+08, -3.32526711e+08,\n",
       "       -3.32518580e+08, -3.32510389e+08, -3.32502139e+08, -3.32493829e+08,\n",
       "       -3.32485461e+08, -3.32477034e+08, -3.32468550e+08, -3.32460007e+08,\n",
       "       -3.32451407e+08, -3.32442751e+08, -3.32434037e+08, -3.32425267e+08,\n",
       "       -3.32416441e+08, -3.32407559e+08, -3.32398622e+08, -3.32389630e+08,\n",
       "       -3.32380583e+08, -3.32371482e+08, -3.32362327e+08, -3.32353119e+08,\n",
       "       -3.32343857e+08, -3.32334542e+08, -3.32325175e+08, -3.32315756e+08,\n",
       "       -3.32306285e+08, -3.32296763e+08, -3.32287190e+08, -3.32277566e+08,\n",
       "       -3.32267892e+08, -3.32258168e+08, -3.32248394e+08, -3.32238572e+08,\n",
       "       -3.32228701e+08, -3.32218781e+08, -3.32208814e+08, -3.32198799e+08,\n",
       "       -3.32188737e+08, -3.32178628e+08, -3.32168473e+08, -3.32158272e+08,\n",
       "       -3.32148025e+08, -3.32137733e+08, -3.32127397e+08, -3.32117016e+08,\n",
       "       -3.32106591e+08, -3.32096123e+08, -3.32085611e+08, -3.32075057e+08,\n",
       "       -3.32064461e+08, -3.32053822e+08, -3.32043143e+08, -3.32032422e+08,\n",
       "       -3.32021661e+08, -3.32010859e+08, -3.32000018e+08, -3.31989137e+08,\n",
       "       -3.31978218e+08, -3.31967260e+08, -3.31956264e+08, -3.31945231e+08,\n",
       "       -3.31934160e+08, -3.31923053e+08, -3.31911909e+08, -3.31900729e+08,\n",
       "       -3.31889514e+08, -3.31878264e+08, -3.31866980e+08, -3.31855661e+08,\n",
       "       -3.31844309e+08, -3.31832924e+08, -3.31821505e+08, -3.31810055e+08,\n",
       "       -3.31798572e+08, -3.31787059e+08, -3.31775514e+08, -3.31763939e+08,\n",
       "       -3.31752334e+08, -3.31740699e+08, -3.31729035e+08, -3.31717342e+08,\n",
       "       -3.31705621e+08, -3.31693873e+08, -3.31682097e+08, -3.31670294e+08,\n",
       "       -3.31658465e+08, -3.31646610e+08, -3.31634730e+08, -3.31622825e+08,\n",
       "       -3.31610895e+08, -3.31598941e+08, -3.31586964e+08, -3.31574963e+08,\n",
       "       -3.31562940e+08, -3.31550895e+08, -3.31538828e+08, -3.31526740e+08,\n",
       "       -3.31514631e+08, -3.31502502e+08, -3.31490354e+08, -3.31478186e+08,\n",
       "       -3.31465999e+08, -3.31453794e+08, -3.31441571e+08, -3.31429330e+08,\n",
       "       -3.31417073e+08, -3.31404799e+08, -3.31392510e+08, -3.31380205e+08,\n",
       "       -3.31367885e+08, -3.31355550e+08, -3.31343202e+08, -3.31330840e+08,\n",
       "       -3.31318465e+08, -3.31306078e+08, -3.31293678e+08, -3.31281267e+08,\n",
       "       -3.31268845e+08, -3.31256413e+08, -3.31243970e+08, -3.31231518e+08,\n",
       "       -3.31219056e+08, -3.31206586e+08, -3.31194108e+08, -3.31181622e+08,\n",
       "       -3.31169129e+08, -3.31156630e+08, -3.31144124e+08, -3.31131612e+08,\n",
       "       -3.31119096e+08, -3.31106574e+08, -3.31094049e+08, -3.31081520e+08,\n",
       "       -3.31068987e+08, -3.31056452e+08, -3.31043915e+08, -3.31031376e+08,\n",
       "       -3.31018836e+08, -3.31006295e+08, -3.30993753e+08, -3.30981212e+08,\n",
       "       -3.30968672e+08, -3.30956133e+08, -3.30943596e+08, -3.30931061e+08,\n",
       "       -3.30918528e+08, -3.30905999e+08, -3.30893474e+08, -3.30880952e+08,\n",
       "       -3.30868436e+08, -3.30855924e+08, -3.30843418e+08, -3.30830919e+08,\n",
       "       -3.30818426e+08, -3.30805940e+08, -3.30793462e+08, -3.30780991e+08,\n",
       "       -3.30768530e+08, -3.30756078e+08, -3.30743635e+08, -3.30731202e+08,\n",
       "       -3.30718780e+08, -3.30706369e+08, -3.30693969e+08, -3.30681582e+08,\n",
       "       -3.30669207e+08, -3.30656845e+08, -3.30644496e+08, -3.30632162e+08,\n",
       "       -3.30619842e+08, -3.30607536e+08, -3.30595247e+08, -3.30582973e+08,\n",
       "       -3.30570716e+08, -3.30558475e+08, -3.30546252e+08, -3.30534047e+08,\n",
       "       -3.30521860e+08, -3.30509692e+08, -3.30497543e+08, -3.30485414e+08,\n",
       "       -3.30473305e+08, -3.30461216e+08, -3.30449149e+08, -3.30437104e+08,\n",
       "       -3.30425081e+08, -3.30413080e+08, -3.30401103e+08, -3.30389149e+08,\n",
       "       -3.30377219e+08, -3.30365313e+08, -3.30353433e+08, -3.30341578e+08,\n",
       "       -3.30329748e+08, -3.30317946e+08, -3.30306169e+08, -3.30294421e+08,\n",
       "       -3.30282700e+08, -3.30271007e+08, -3.30259343e+08, -3.30247708e+08,\n",
       "       -3.30236102e+08, -3.30224527e+08, -3.30212982e+08, -3.30201468e+08,\n",
       "       -3.30189985e+08, -3.30178535e+08, -3.30167116e+08, -3.30155731e+08,\n",
       "       -3.30144378e+08, -3.30133059e+08, -3.30121775e+08, -3.30110524e+08,\n",
       "       -3.30099309e+08, -3.30088129e+08, -3.30076985e+08, -3.30065878e+08,\n",
       "       -3.30054807e+08, -3.30043773e+08, -3.30032777e+08, -3.30021819e+08,\n",
       "       -3.30010899e+08, -3.30000018e+08, -3.29989177e+08, -3.29978375e+08,\n",
       "       -3.29967613e+08, -3.29956892e+08, -3.29946212e+08, -3.29935574e+08,\n",
       "       -3.29924977e+08, -3.29914423e+08, -3.29903911e+08, -3.29893443e+08,\n",
       "       -3.29883017e+08, -3.29872636e+08, -3.29862299e+08, -3.29852007e+08,\n",
       "       -3.29841760e+08, -3.29831559e+08, -3.29821403e+08, -3.29811294e+08,\n",
       "       -3.29801232e+08, -3.29791217e+08, -3.29781249e+08, -3.29771329e+08,\n",
       "       -3.29761458e+08, -3.29751635e+08, -3.29741861e+08, -3.29732137e+08,\n",
       "       -3.29722463e+08, -3.29712838e+08, -3.29703265e+08, -3.29693742e+08,\n",
       "       -3.29684271e+08, -3.29674852e+08, -3.29665484e+08, -3.29656169e+08,\n",
       "       -3.29646907e+08, -3.29637699e+08, -3.29628543e+08, -3.29619442e+08,\n",
       "       -3.29610395e+08, -3.29601403e+08, -3.29592465e+08, -3.29583583e+08,\n",
       "       -3.29574757e+08, -3.29565986e+08, -3.29557273e+08, -3.29548615e+08,\n",
       "       -3.29540015e+08, -3.29531473e+08, -3.29522988e+08, -3.29514561e+08,\n",
       "       -3.29506192e+08, -3.29497882e+08, -3.29489632e+08, -3.29481440e+08,\n",
       "       -3.29473309e+08, -3.29465237e+08, -3.29457226e+08, -3.29449275e+08,\n",
       "       -3.29441386e+08, -3.29433558e+08, -3.29425791e+08, -3.29418086e+08,\n",
       "       -3.29410444e+08, -3.29402864e+08, -3.29395346e+08, -3.29387892e+08,\n",
       "       -3.29380501e+08, -3.29373174e+08, -3.29365911e+08, -3.29358712e+08,\n",
       "       -3.29351578e+08, -3.29344508e+08, -3.29337504e+08, -3.29330565e+08,\n",
       "       -3.29323691e+08, -3.29316884e+08, -3.29310143e+08, -3.29303468e+08,\n",
       "       -3.29296859e+08, -3.29290318e+08, -3.29283844e+08, -3.29277438e+08,\n",
       "       -3.29271099e+08, -3.29264828e+08, -3.29258626e+08, -3.29252492e+08,\n",
       "       -3.29246426e+08, -3.29240430e+08, -3.29234503e+08, -3.29228645e+08,\n",
       "       -3.29222857e+08, -3.29217139e+08, -3.29211491e+08, -3.29205913e+08,\n",
       "       -3.29200405e+08, -3.29194969e+08, -3.29189603e+08, -3.29184309e+08,\n",
       "       -3.29179086e+08, -3.29173935e+08, -3.29168855e+08, -3.29163848e+08,\n",
       "       -3.29158912e+08, -3.29154049e+08, -3.29149259e+08, -3.29144541e+08,\n",
       "       -3.29139897e+08, -3.29135325e+08, -3.29130827e+08, -3.29126402e+08,\n",
       "       -3.29122052e+08, -3.29117774e+08, -3.29113571e+08, -3.29109442e+08,\n",
       "       -3.29105388e+08, -3.29101408e+08, -3.29097502e+08, -3.29093671e+08,\n",
       "       -3.29089916e+08, -3.29086235e+08, -3.29082630e+08, -3.29079100e+08,\n",
       "       -3.29075646e+08, -3.29072267e+08, -3.29068964e+08, -3.29065737e+08,\n",
       "       -3.29062586e+08, -3.29059511e+08, -3.29056513e+08, -3.29053591e+08,\n",
       "       -3.29050745e+08, -3.29047976e+08, -3.29045284e+08, -3.29042669e+08,\n",
       "       -3.29040131e+08, -3.29037670e+08, -3.29035285e+08, -3.29032979e+08,\n",
       "       -3.29030749e+08, -3.29028597e+08, -3.29026523e+08, -3.29024526e+08,\n",
       "       -3.29022607e+08, -3.29020765e+08, -3.29019002e+08, -3.29017316e+08,\n",
       "       -3.29015708e+08, -3.29014178e+08, -3.29012727e+08, -3.29011353e+08,\n",
       "       -3.29010058e+08, -3.29008841e+08, -3.29007702e+08, -3.29006642e+08,\n",
       "       -3.29005660e+08, -3.29004756e+08, -3.29003931e+08, -3.29003184e+08,\n",
       "       -3.29002516e+08, -3.29001926e+08, -3.29001415e+08, -3.29000983e+08,\n",
       "       -3.29000629e+08, -3.29000354e+08, -3.29000157e+08, -3.29000039e+08,\n",
       "       -9.99842085e+05, -9.99842085e+05, -9.99368363e+05, -9.99368363e+05,\n",
       "       -9.98578911e+05, -9.98578911e+05, -9.97473852e+05, -9.97473852e+05,\n",
       "       -9.96053362e+05, -9.96053362e+05, -9.94317663e+05, -9.94317663e+05,\n",
       "       -9.92267032e+05, -9.92267032e+05, -9.89901791e+05, -9.89901791e+05,\n",
       "       -9.87222313e+05, -9.87222313e+05, -9.84229023e+05, -9.84229023e+05,\n",
       "       -9.80922393e+05, -9.80922393e+05, -9.77302944e+05, -9.77302944e+05,\n",
       "       -9.73371249e+05, -9.73371249e+05, -9.69127929e+05, -9.69127929e+05,\n",
       "       -9.64573653e+05, -9.64573653e+05, -9.59709141e+05, -9.59709141e+05,\n",
       "       -9.54535161e+05, -9.54535161e+05, -9.49052530e+05, -9.49052530e+05,\n",
       "       -9.43262114e+05, -9.43262114e+05, -9.37164828e+05, -9.37164828e+05,\n",
       "       -9.30761633e+05, -9.30761633e+05, -9.24053543e+05, -9.24053543e+05,\n",
       "       -9.17041615e+05, -9.17041615e+05, -9.09726957e+05, -9.09726957e+05,\n",
       "       -9.02110725e+05, -9.02110725e+05, -8.94194121e+05, -8.94194121e+05,\n",
       "       -8.85978395e+05, -8.85978395e+05, -8.77464845e+05, -8.77464845e+05,\n",
       "       -8.68654815e+05, -8.68654815e+05, -8.59549697e+05, -8.59549697e+05,\n",
       "       -8.50150928e+05, -8.50150928e+05, -8.40459993e+05, -8.40459993e+05,\n",
       "       -8.30478423e+05, -8.30478423e+05, -8.20207792e+05, -8.20207792e+05,\n",
       "       -8.09649724e+05, -8.09649724e+05, -7.98805886e+05, -7.98805886e+05,\n",
       "       -7.87677991e+05, -7.87677991e+05, -7.76267794e+05, -7.76267794e+05,\n",
       "       -7.64577100e+05, -7.64577100e+05, -7.52607753e+05, -7.52607753e+05,\n",
       "       -7.40361644e+05, -7.40361644e+05, -7.27840707e+05, -7.27840707e+05,\n",
       "       -7.15046919e+05, -7.15046919e+05, -7.01982300e+05, -7.01982300e+05,\n",
       "       -6.88648915e+05, -6.88648915e+05, -6.75048868e+05, -6.75048868e+05,\n",
       "       -6.61184307e+05, -6.61184307e+05, -6.47057422e+05, -6.47057422e+05,\n",
       "       -6.32670443e+05, -6.32670443e+05, -6.18025643e+05, -6.18025643e+05,\n",
       "       -6.03125334e+05, -6.03125334e+05, -5.87971870e+05, -5.87971870e+05,\n",
       "       -5.72567643e+05, -5.72567643e+05, -5.56915087e+05, -5.56915087e+05,\n",
       "       -5.41016672e+05, -5.41016672e+05, -5.24874910e+05, -5.24874910e+05,\n",
       "       -5.08492350e+05, -5.08492350e+05, -4.91871578e+05, -4.91871578e+05,\n",
       "       -4.75015220e+05, -4.75015220e+05, -4.57925938e+05, -4.57925938e+05,\n",
       "       -4.40606430e+05, -4.40606430e+05, -4.23059432e+05, -4.23059432e+05,\n",
       "       -4.05287714e+05, -4.05287714e+05, -3.87294083e+05, -3.87294083e+05,\n",
       "       -3.69081380e+05, -3.69081380e+05, -3.50652483e+05, -3.50652483e+05,\n",
       "       -3.32010300e+05, -3.32010300e+05, -3.13157776e+05, -3.13157776e+05,\n",
       "       -2.94097888e+05, -2.94097888e+05, -2.74833646e+05, -2.74833646e+05,\n",
       "       -2.55368092e+05, -2.55368092e+05, -2.35704301e+05, -2.35704301e+05,\n",
       "       -2.15845376e+05, -2.15845376e+05, -1.95794456e+05, -1.95794456e+05,\n",
       "       -1.75554705e+05, -1.75554705e+05, -1.55129321e+05, -1.55129321e+05,\n",
       "       -1.34521528e+05, -1.34521528e+05, -1.13734581e+05, -1.13734581e+05,\n",
       "       -9.27717628e+04, -9.27717628e+04, -7.16363838e+04, -7.16363838e+04,\n",
       "       -5.03317816e+04, -5.03317816e+04, -2.88613205e+04, -2.88613205e+04,\n",
       "       -7.22839099e+03, -7.22839099e+03,  1.45635906e+04,  1.45635906e+04,\n",
       "        3.65111829e+04,  3.65111829e+04,  5.86109201e+04,  5.86109201e+04,\n",
       "        8.08593123e+04,  8.08593123e+04,  1.03252846e+05,  1.03252846e+05,\n",
       "        1.25787985e+05,  1.25787985e+05,  1.48461170e+05,  1.48461170e+05,\n",
       "        1.71268822e+05,  1.71268822e+05,  1.94207338e+05,  1.94207338e+05,\n",
       "        2.17273096e+05,  2.17273096e+05,  2.40462454e+05,  2.40462454e+05,\n",
       "        2.63771749e+05,  2.63771749e+05,  2.87197301e+05,  2.87197301e+05,\n",
       "        3.10735410e+05,  3.10735410e+05,  3.34382360e+05,  3.34382360e+05,\n",
       "        3.58134416e+05,  3.58134416e+05,  3.81987827e+05,  3.81987827e+05,\n",
       "        4.05938827e+05,  4.05938827e+05,  4.29983633e+05,  4.29983633e+05,\n",
       "        4.54118449e+05,  4.54118449e+05,  4.78339462e+05,  4.78339462e+05,\n",
       "        5.02642849e+05,  5.02642849e+05,  5.27024771e+05,  5.27024771e+05,\n",
       "        5.51481378e+05,  5.51481378e+05,  5.76008808e+05,  5.76008808e+05,\n",
       "        6.00603188e+05,  6.00603188e+05,  6.25260634e+05,  6.25260634e+05,\n",
       "        6.49977253e+05,  6.49977253e+05,  6.74749140e+05,  6.74749140e+05,\n",
       "        6.99572385e+05,  6.99572385e+05,  7.24443068e+05,  7.24443068e+05,\n",
       "        7.49357260e+05,  7.49357260e+05,  7.74311028e+05,  7.74311028e+05,\n",
       "        7.99300431e+05,  7.99300431e+05,  8.24321524e+05,  8.24321524e+05,\n",
       "        8.49370354e+05,  8.49370354e+05,  8.74442967e+05,  8.74442967e+05,\n",
       "        8.99535403e+05,  8.99535403e+05,  9.24643700e+05,  9.24643700e+05,\n",
       "        9.49763892e+05,  9.49763892e+05,  9.74892014e+05,  9.74892014e+05,\n",
       "        1.00002410e+06,  1.00002410e+06,  1.02515617e+06,  1.02515617e+06,\n",
       "        1.05028427e+06,  1.05028427e+06,  1.07540442e+06,  1.07540442e+06,\n",
       "        1.10051267e+06,  1.10051267e+06,  1.12560504e+06,  1.12560504e+06,\n",
       "        1.15067757e+06,  1.15067757e+06,  1.17572630e+06,  1.17572630e+06,\n",
       "        1.20074728e+06,  1.20074728e+06,  1.22573655e+06,  1.22573655e+06,\n",
       "        1.25069018e+06,  1.25069018e+06,  1.27560421e+06,  1.27560421e+06,\n",
       "        1.30047472e+06,  1.30047472e+06,  1.32529778e+06,  1.32529778e+06,\n",
       "        1.35006946e+06,  1.35006946e+06,  1.37478587e+06,  1.37478587e+06,\n",
       "        1.39944308e+06,  1.39944308e+06,  1.42403722e+06,  1.42403722e+06,\n",
       "        1.44856439e+06,  1.44856439e+06,  1.47302073e+06,  1.47302073e+06,\n",
       "        1.49740236e+06,  1.49740236e+06,  1.52170545e+06,  1.52170545e+06,\n",
       "        1.54592615e+06,  1.54592615e+06,  1.57006064e+06,  1.57006064e+06,\n",
       "        1.59410511e+06,  1.59410511e+06,  1.61805576e+06,  1.61805576e+06,\n",
       "        1.64190881e+06,  1.64190881e+06,  1.66566049e+06,  1.66566049e+06,\n",
       "        1.68930706e+06,  1.68930706e+06,  1.71284477e+06,  1.71284477e+06,\n",
       "        1.73626991e+06,  1.73626991e+06,  1.75957879e+06,  1.75957879e+06,\n",
       "        1.78276772e+06,  1.78276772e+06,  1.80583303e+06,  1.80583303e+06,\n",
       "        1.82877110e+06,  1.82877110e+06,  1.85157829e+06,  1.85157829e+06,\n",
       "        1.87425100e+06,  1.87425100e+06,  1.89678566e+06,  1.89678566e+06,\n",
       "        1.91917870e+06,  1.91917870e+06,  1.94142660e+06,  1.94142660e+06,\n",
       "        1.96352583e+06,  1.96352583e+06,  1.98547290e+06,  1.98547290e+06,\n",
       "        2.00726436e+06,  2.00726436e+06,  2.02889676e+06,  2.02889676e+06,\n",
       "        2.05036668e+06,  2.05036668e+06,  2.07167074e+06,  2.07167074e+06,\n",
       "        2.09280557e+06,  2.09280557e+06,  2.11376783e+06,  2.11376783e+06,\n",
       "        2.13455421e+06,  2.13455421e+06,  2.15516144e+06,  2.15516144e+06,\n",
       "        2.17558625e+06,  2.17558625e+06,  2.19582542e+06,  2.19582542e+06,\n",
       "        2.21587576e+06,  2.21587576e+06,  2.23573410e+06,  2.23573410e+06,\n",
       "        2.25539730e+06,  2.25539730e+06,  2.27486226e+06,  2.27486226e+06,\n",
       "        2.29412590e+06,  2.29412590e+06,  2.31318519e+06,  2.31318519e+06,\n",
       "        2.33203712e+06,  2.33203712e+06,  2.35067870e+06,  2.35067870e+06,\n",
       "        2.36910699e+06,  2.36910699e+06,  2.38731909e+06,  2.38731909e+06,\n",
       "        2.40531211e+06,  2.40531211e+06,  2.42308323e+06,  2.42308323e+06,\n",
       "        2.44062962e+06,  2.44062962e+06,  2.45794852e+06,  2.45794852e+06,\n",
       "        2.47503720e+06,  2.47503720e+06,  2.49189296e+06,  2.49189296e+06,\n",
       "        2.50851313e+06,  2.50851313e+06,  2.52489509e+06,  2.52489509e+06,\n",
       "        2.54103625e+06,  2.54103625e+06,  2.55693407e+06,  2.55693407e+06,\n",
       "        2.57258604e+06,  2.57258604e+06,  2.58798968e+06,  2.58798968e+06,\n",
       "        2.60314256e+06,  2.60314256e+06,  2.61804229e+06,  2.61804229e+06,\n",
       "        2.63268652e+06,  2.63268652e+06,  2.64707293e+06,  2.64707293e+06,\n",
       "        2.66119925e+06,  2.66119925e+06,  2.67506326e+06,  2.67506326e+06,\n",
       "        2.68866275e+06,  2.68866275e+06,  2.70199559e+06,  2.70199559e+06,\n",
       "        2.71505967e+06,  2.71505967e+06,  2.72785293e+06,  2.72785293e+06,\n",
       "        2.74037334e+06,  2.74037334e+06,  2.75261894e+06,  2.75261894e+06,\n",
       "        2.76458778e+06,  2.76458778e+06,  2.77627797e+06,  2.77627797e+06,\n",
       "        2.78768768e+06,  2.78768768e+06,  2.79881509e+06,  2.79881509e+06,\n",
       "        2.80965846e+06,  2.80965846e+06,  2.82021607e+06,  2.82021607e+06,\n",
       "        2.83048625e+06,  2.83048625e+06,  2.84046738e+06,  2.84046738e+06,\n",
       "        2.85015788e+06,  2.85015788e+06,  2.85955623e+06,  2.85955623e+06,\n",
       "        2.86866094e+06,  2.86866094e+06,  2.87747057e+06,  2.87747057e+06,\n",
       "        2.88598373e+06,  2.88598373e+06,  2.89419908e+06,  2.89419908e+06,\n",
       "        2.90211533e+06,  2.90211533e+06,  2.90973121e+06,  2.90973121e+06,\n",
       "        2.91704553e+06,  2.91704553e+06,  2.92405713e+06,  2.92405713e+06,\n",
       "        2.93076491e+06,  2.93076491e+06,  2.93716781e+06,  2.93716781e+06,\n",
       "        2.94326481e+06,  2.94326481e+06,  2.94905495e+06,  2.94905495e+06,\n",
       "        2.95453733e+06,  2.95453733e+06,  2.95971106e+06,  2.95971106e+06,\n",
       "        2.96457535e+06,  2.96457535e+06,  2.96912941e+06,  2.96912941e+06,\n",
       "        2.97337252e+06,  2.97337252e+06,  2.97730403e+06,  2.97730403e+06,\n",
       "        2.98092331e+06,  2.98092331e+06,  2.98422978e+06,  2.98422978e+06,\n",
       "        2.98722293e+06,  2.98722293e+06,  2.98990228e+06,  2.98990228e+06,\n",
       "        2.99226740e+06,  2.99226740e+06,  2.99431794e+06,  2.99431794e+06,\n",
       "        2.99605355e+06,  2.99605355e+06,  2.99747397e+06,  2.99747397e+06,\n",
       "        2.99857898e+06,  2.99857898e+06,  2.99936839e+06,  2.99936839e+06,\n",
       "        2.99984209e+06,  2.99984209e+06])"
      ]
     },
     "execution_count": 805,
     "metadata": {},
     "output_type": "execute_result"
    }
   ],
   "source": [
    "Energy"
   ]
  },
  {
   "cell_type": "code",
   "execution_count": null,
   "id": "b4e16e69-a483-4389-942f-11a020388682",
   "metadata": {},
   "outputs": [],
   "source": []
  }
 ],
 "metadata": {
  "kernelspec": {
   "display_name": "Python 3 (ipykernel)",
   "language": "python",
   "name": "python3"
  },
  "language_info": {
   "codemirror_mode": {
    "name": "ipython",
    "version": 3
   },
   "file_extension": ".py",
   "mimetype": "text/x-python",
   "name": "python",
   "nbconvert_exporter": "python",
   "pygments_lexer": "ipython3",
   "version": "3.8.10"
  }
 },
 "nbformat": 4,
 "nbformat_minor": 5
}
